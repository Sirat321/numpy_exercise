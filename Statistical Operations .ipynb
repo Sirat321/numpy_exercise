{
 "cells": [
  {
   "cell_type": "code",
   "execution_count": 1,
   "id": "49b3c143-980d-49ed-a831-243ee8d7605b",
   "metadata": {},
   "outputs": [
    {
     "name": "stdout",
     "output_type": "stream",
     "text": [
      "Array: [5.7241758  4.35285778 0.12160864 7.75602716 2.4089724  5.39534077\n",
      " 4.66648128 4.6257324  1.25235172 6.28874067 6.36258122 0.55444407\n",
      " 2.65565784 6.8013563  3.2588463  6.13943095 7.62749938 2.95139981\n",
      " 3.24363489 8.88446116]\n",
      "Mean: 4.553580026601368\n",
      "Standard Deviation: 2.3994088519836967\n"
     ]
    }
   ],
   "source": [
    "import numpy as np\n",
    "array = np.random.uniform(0, 10, size=20)\n",
    "mean_value = np.mean(array)\n",
    "std_deviation = np.std(array)\n",
    "print(\"Array:\", array)\n",
    "print(\"Mean:\", mean_value)\n",
    "print(\"Standard Deviation:\", std_deviation)\n",
    "print(\"serat\");\n"
   ]
  },
  {
   "cell_type": "code",
   "execution_count": null,
   "id": "1aa8e827-c177-4a1d-af43-7b2231dd4048",
   "metadata": {},
   "outputs": [],
   "source": []
  }
 ],
 "metadata": {
  "kernelspec": {
   "display_name": "Python 3 (ipykernel)",
   "language": "python",
   "name": "python3"
  },
  "language_info": {
   "codemirror_mode": {
    "name": "ipython",
    "version": 3
   },
   "file_extension": ".py",
   "mimetype": "text/x-python",
   "name": "python",
   "nbconvert_exporter": "python",
   "pygments_lexer": "ipython3",
   "version": "3.14.0"
  }
 },
 "nbformat": 4,
 "nbformat_minor": 5
}
